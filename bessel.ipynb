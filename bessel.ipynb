{
 "cells": [
  {
   "attachments": {},
   "cell_type": "markdown",
   "metadata": {},
   "source": [
    "Define model:"
   ]
  },
  {
   "cell_type": "code",
   "execution_count": 1,
   "metadata": {},
   "outputs": [],
   "source": [
    "import torch\n",
    "\n",
    "class TinyModel(torch.nn.Module):\n",
    "\n",
    "    def __init__(self):\n",
    "        super(TinyModel, self).__init__()\n",
    "\n",
    "        self.bn = torch.nn.BatchNorm2d(1)\n",
    "\n",
    "    def forward(self, x):\n",
    "        x = self.bn(x)\n",
    "        return x\n",
    "\n",
    "model = TinyModel()"
   ]
  },
  {
   "attachments": {},
   "cell_type": "markdown",
   "metadata": {},
   "source": [
    "Define sample tensor:"
   ]
  },
  {
   "cell_type": "code",
   "execution_count": 2,
   "metadata": {},
   "outputs": [
    {
     "name": "stdout",
     "output_type": "stream",
     "text": [
      "torch.Size([1, 1, 2, 2])\n"
     ]
    }
   ],
   "source": [
    "C = 2\n",
    "\n",
    "x = torch.Tensor([[[1,2],\n",
    "                   [3,4]]])\n",
    "x = x.unsqueeze(0)\n",
    "print(x.shape)"
   ]
  },
  {
   "attachments": {},
   "cell_type": "markdown",
   "metadata": {},
   "source": [
    "Bessel's correction is correection = 1, we can manually set correction = 0.\n",
    "\n",
    "correction = 0:\n",
    "\n",
    " $\\sigma = \\sqrt{\\frac{1}{N}\\sum\\limits_{i=0}^{N-1}(x_i - \\bar x)^2}$\n",
    "\n",
    "correction = 1:\n",
    "\n",
    "  $\\sigma = \\sqrt{\\frac{1}{N-1}\\sum\\limits_{i=0}^{N-1}(x_i - \\bar x)^2}$"
   ]
  },
  {
   "cell_type": "code",
   "execution_count": 3,
   "metadata": {},
   "outputs": [
    {
     "name": "stdout",
     "output_type": "stream",
     "text": [
      "\n",
      "output tensor:\n",
      "tensor([[[[-1.3416, -0.4472],\n",
      "          [ 0.4472,  1.3416]]]], grad_fn=<NativeBatchNormBackward0>)\n",
      "\n",
      "correction = 1\n",
      "tensor([[[[-1.1619, -0.3873],\n",
      "          [ 0.3873,  1.1619]]]])\n",
      "\n",
      "correction = 0\n",
      "tensor([[[[-1.3416, -0.4472],\n",
      "          [ 0.4472,  1.3416]]]])\n"
     ]
    }
   ],
   "source": [
    "model.train()\n",
    "y = model(x)\n",
    "\n",
    "x_ = x[0,0,:,:]\n",
    "y_ = y[0,0,:,:]\n",
    "\n",
    "print('\\noutput tensor:')\n",
    "print(y)\n",
    "\n",
    "print('\\ncorrection = 1')\n",
    "print((x-torch.mean(x))/torch.std(x))\n",
    "\n",
    "print('\\ncorrection = 0')\n",
    "print((x-torch.mean(x))/torch.std(x, correction = 0))"
   ]
  },
  {
   "attachments": {},
   "cell_type": "markdown",
   "metadata": {},
   "source": [
    "This implies that BN returns samples with mean $\\mu = 0$ but std $\\sigma \\neq 1$ (specifically $\\sigma > 1$). If the sample size is big, $N >> 0$, then $\\sqrt{\\frac{1}{N}} \\approx \\sqrt{\\frac{1}{N-1}}$, hence $\\sigma \\approx 1$."
   ]
  }
 ],
 "metadata": {
  "kernelspec": {
   "display_name": "deeplearning",
   "language": "python",
   "name": "python3"
  },
  "language_info": {
   "codemirror_mode": {
    "name": "ipython",
    "version": 3
   },
   "file_extension": ".py",
   "mimetype": "text/x-python",
   "name": "python",
   "nbconvert_exporter": "python",
   "pygments_lexer": "ipython3",
   "version": "3.10.10"
  },
  "orig_nbformat": 4
 },
 "nbformat": 4,
 "nbformat_minor": 2
}
